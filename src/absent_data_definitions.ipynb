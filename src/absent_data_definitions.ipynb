{
 "cells": [
  {
   "cell_type": "markdown",
   "metadata": {},
   "source": [
    "# Absent Data\n"
   ]
  },
  {
   "cell_type": "markdown",
   "metadata": {},
   "source": [
    "### Missing Completely at Random (MCAR)\n",
    "\n",
    "- The fact of a certain value is missing, have not relationated with your hipothetic value and other variables value.\n"
   ]
  },
  {
   "cell_type": "markdown",
   "metadata": {},
   "source": [
    "### Missing at Random (MAR)\n",
    "\n",
    "- Miss data randomly means the propension of a data point being absent is not relationated to the absent data, but is relationated with some observed data.\n"
   ]
  },
  {
   "cell_type": "markdown",
   "metadata": {},
   "source": [
    "### Missing not at Random (MNAR)\n",
    "\n",
    "- Two possibilities:\n",
    "  - Absent value depends on hipothetic value;\n",
    "  - Absent value depends on value of another variable;\n"
   ]
  }
 ],
 "metadata": {
  "language_info": {
   "name": "python"
  }
 },
 "nbformat": 4,
 "nbformat_minor": 2
}
