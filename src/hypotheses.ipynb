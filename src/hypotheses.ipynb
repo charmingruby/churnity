{
 "cells": [
  {
   "cell_type": "markdown",
   "metadata": {},
   "source": [
    "# Straight forward hypotheses formulation\n"
   ]
  },
  {
   "cell_type": "markdown",
   "metadata": {},
   "source": [
    "## Cake recipe\n",
    "\n",
    "- **Use intuition**\n",
    "  - Start with initial suspects based on the domain knowledge.\n",
    "  - Ask for yourself what expects to find on data.\n",
    "- **Be specific**\n",
    "  - Clear and specific hypotheses.\n",
    "  - Avoid vague information, like: \"the data have some tendency\".\n",
    "  - Be concrete, like: \"the sales increase is relationated to the launch of the new product\".\n",
    "- **Testability**\n",
    "  - Be certain the hypotheses can be tested with the available data.\n",
    "  - Should be able to find evidence on data that confirms or refutes the hypothese.\n",
    "- **Consider relations**\n",
    "  - Think how different variables can be relationated.\n"
   ]
  }
 ],
 "metadata": {
  "language_info": {
   "name": "python"
  }
 },
 "nbformat": 4,
 "nbformat_minor": 2
}
